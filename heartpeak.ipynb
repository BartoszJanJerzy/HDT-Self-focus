{
 "cells": [
  {
   "cell_type": "code",
   "execution_count": null,
   "metadata": {},
   "outputs": [],
   "source": [
    "import os\n",
    "import pandas as pd\n",
    "import plotly.graph_objects as go\n",
    "import plotly.express as px\n",
    "from IPython.display import display, HTML\n",
    "display(HTML(\"<style>.container { width:100% !important; }</style>\"))"
   ]
  },
  {
   "cell_type": "code",
   "execution_count": null,
   "metadata": {},
   "outputs": [],
   "source": [
    "from utils import get_files, get_labels, show_conditions, get_data, get_working_data, get_peak_trace, show_peaks"
   ]
  },
  {
   "cell_type": "code",
   "execution_count": null,
   "metadata": {},
   "outputs": [],
   "source": [
    "from scipy.signal import savgol_filter"
   ]
  },
  {
   "cell_type": "markdown",
   "metadata": {},
   "source": [
    "# 1 - Wczytaj pliki"
   ]
  },
  {
   "cell_type": "code",
   "execution_count": null,
   "metadata": {},
   "outputs": [],
   "source": [
    "dfs = get_files()"
   ]
  },
  {
   "cell_type": "code",
   "execution_count": null,
   "metadata": {},
   "outputs": [],
   "source": [
    "i = 12 # numer tabeli"
   ]
  },
  {
   "cell_type": "code",
   "execution_count": null,
   "metadata": {},
   "outputs": [],
   "source": [
    "dfa = dfs[i]\n",
    "dfa"
   ]
  },
  {
   "cell_type": "code",
   "execution_count": null,
   "metadata": {},
   "outputs": [],
   "source": [
    "df = dfa.copy()\n",
    "#len(df)\n",
    "#df\n",
    "print(dfa.loc[[4001]])"
   ]
  },
  {
   "cell_type": "code",
   "execution_count": null,
   "metadata": {},
   "outputs": [],
   "source": [
    "df = df.loc[16000:134500]\n",
    "df = df.reset_index(level=None, drop=True)\n",
    "df"
   ]
  },
  {
   "cell_type": "code",
   "execution_count": null,
   "metadata": {},
   "outputs": [],
   "source": [
    "labels_cond, labels_i = get_labels(df)"
   ]
  },
  {
   "cell_type": "markdown",
   "metadata": {},
   "source": [
    "# 2 - Zaznacz warunki"
   ]
  },
  {
   "cell_type": "code",
   "execution_count": null,
   "metadata": {},
   "outputs": [],
   "source": [
    "#labels_cond, labels_i = get_labels(df)\n",
    "df['Warunek'] = labels_cond\n",
    "df['Interwał'] = labels_i"
   ]
  },
  {
   "cell_type": "code",
   "execution_count": null,
   "metadata": {},
   "outputs": [],
   "source": [
    "df_example = df.groupby(['Warunek', 'Interwał']).sum().reset_index()\n",
    "df_example = df_example[['Warunek', 'Interwał']]\n",
    "df_example[df_example['Warunek'] != 'brak']"
   ]
  },
  {
   "cell_type": "code",
   "execution_count": null,
   "metadata": {
    "scrolled": false
   },
   "outputs": [],
   "source": [
    "show_conditions(start=0, end=156000, df=df)"
   ]
  },
  {
   "cell_type": "markdown",
   "metadata": {},
   "source": [
    "# 3 - Licz piki\n",
    "1. Zobacz wyczyszczony sygnał.\n",
    "2. Podaj parametry.\n",
    "3. Zobacz wynik na wykresie.\n",
    "4. Jeśli wynik się nie pdoba, to zmień wartość parametrów."
   ]
  },
  {
   "cell_type": "markdown",
   "metadata": {},
   "source": [
    "## Pokaż wyczyszczony sygnał"
   ]
  },
  {
   "cell_type": "code",
   "execution_count": null,
   "metadata": {},
   "outputs": [],
   "source": [
    "fig = px.line(df, x = df.index, y = 'CleanSignal',title = 'Dane przed transaformacją')\n",
    "fig.show()"
   ]
  },
  {
   "cell_type": "code",
   "execution_count": null,
   "metadata": {},
   "outputs": [],
   "source": [
    "df.CleanSignal = savgol_filter(df.CleanSignal, 17, 2) #filtruje sygnał tak by był bardziej smooth"
   ]
  },
  {
   "cell_type": "code",
   "execution_count": null,
   "metadata": {},
   "outputs": [],
   "source": [
    "fig = px.line(df, x = df.index, y = 'CleanSignal',title = 'Dane po smoothowaniu')\n",
    "fig.show()"
   ]
  },
  {
   "cell_type": "markdown",
   "metadata": {},
   "source": [
    "## Parametry\n",
    "### Filtrowanie danych:\n",
    "- *max_good_value* - największa rzetelna wartośc sygnału\n",
    "- *min_good_value* - najmniejsza rzetelna wartośc sygnału\n",
    "\n",
    "### Skalowanie danych: spąłszcenie do podanego zakresu\n",
    "- *upper* - górna granica nowego zakresu, domyslnie 1024\n",
    "- *lower* - dolna granica nowego zakresu, domyślnie 0\n",
    "\n",
    "### Inne\n",
    "- *hz* - częstotliwosć pomiaru, domyślnie 100\n",
    "- *col* - kolumna z sygnałem, domyślnie 'CleanSignal' "
   ]
  },
  {
   "cell_type": "code",
   "execution_count": null,
   "metadata": {},
   "outputs": [],
   "source": [
    "df['CleanSignal'].max()"
   ]
  },
  {
   "cell_type": "code",
   "execution_count": null,
   "metadata": {},
   "outputs": [],
   "source": [
    "df['CleanSignal'].min()"
   ]
  },
  {
   "cell_type": "code",
   "execution_count": null,
   "metadata": {},
   "outputs": [],
   "source": [
    "max_good_value = df['CleanSignal'].max()\n",
    "min_good_value = df['CleanSignal'].min()\n",
    "upper = 1024 #domyslnie 1024\n",
    "lower = 0 # domyślnie 0\n",
    "hz = 100 # domyślnie 100\n",
    "col = 'CleanSignal' # domyślnie 'CleanSignal' \n",
    "df_len = len(df)\n",
    "#hrw = 0.75 #wielkosc okna do probkowania dla sredniej kroczacej"
   ]
  },
  {
   "cell_type": "code",
   "execution_count": null,
   "metadata": {},
   "outputs": [],
   "source": [
    "data = get_data(df.reset_index(), col, max_good_value, min_good_value, lower, upper)\n",
    "working_data = get_working_data(data, hz)\n",
    "peak_trace = get_peak_trace(working_data, df_len)\n",
    "df['Peak'] = peak_trace"
   ]
  },
  {
   "cell_type": "code",
   "execution_count": null,
   "metadata": {},
   "outputs": [],
   "source": [
    "#co liczymy? suma pików dla interwałów\n",
    "df_grouped = df.groupby(['Warunek', 'Interwał']).agg({'Peak': 'sum'}).reset_index()\n",
    "df_grouped = df_grouped[df_grouped['Warunek'] != 'brak']\n",
    "print(f'Wszystkie piki: {df[\"Peak\"].sum()}')\n",
    "df_grouped"
   ]
  },
  {
   "cell_type": "code",
   "execution_count": null,
   "metadata": {},
   "outputs": [],
   "source": [
    "show_peaks(df)"
   ]
  },
  {
   "cell_type": "markdown",
   "metadata": {},
   "source": [
    "# 4 - Zapisz dane\n",
    "Wpisz odpowiednie `person_id` i przeklikaj resztę:\n",
    "- sprawdź czy nowa tabela `new_df` jest ok\n",
    "- sprwadź czy dobrze się wcyztaął tabela ze  wszystkimi wynikami `full_df`\n",
    "- przejdź przez skrypt dla następnej osoby :)"
   ]
  },
  {
   "cell_type": "code",
   "execution_count": null,
   "metadata": {},
   "outputs": [],
   "source": [
    "person_id = 'P004' #zmien osobe"
   ]
  },
  {
   "cell_type": "code",
   "execution_count": null,
   "metadata": {},
   "outputs": [],
   "source": [
    "new_df = df_grouped.copy()\n",
    "new_df['id'] = person_id\n",
    "new_df"
   ]
  },
  {
   "cell_type": "code",
   "execution_count": null,
   "metadata": {},
   "outputs": [],
   "source": [
    "new_df.to_excel(f'./peak_data/{person_id}.xlsx')"
   ]
  }
 ],
 "metadata": {
  "kernelspec": {
   "display_name": "Python 3",
   "language": "python",
   "name": "python3"
  },
  "language_info": {
   "codemirror_mode": {
    "name": "ipython",
    "version": 3
   },
   "file_extension": ".py",
   "mimetype": "text/x-python",
   "name": "python",
   "nbconvert_exporter": "python",
   "pygments_lexer": "ipython3",
   "version": "3.7.6"
  }
 },
 "nbformat": 4,
 "nbformat_minor": 5
}
